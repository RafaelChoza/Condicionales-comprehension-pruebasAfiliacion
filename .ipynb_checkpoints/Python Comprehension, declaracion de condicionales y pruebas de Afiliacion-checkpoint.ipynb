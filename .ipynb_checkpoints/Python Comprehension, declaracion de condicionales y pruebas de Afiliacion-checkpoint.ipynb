{
 "cells": [
  {
   "cell_type": "markdown",
   "id": "952a1b4e",
   "metadata": {},
   "source": [
    "### Que es comprehension\n",
    "- Comprehension en Python nos permite construir logica de manera corta y concisa\n",
    "- Una forma de escrbibir un bloque de codigo para generar un asecuancia que peude ser una lista, un diccionario, un set o un generador usando otra secuencia\n",
    "- Puede involucrar multiples pasos de conversion entre los diferentes tipos de secuencias"
   ]
  },
  {
   "cell_type": "markdown",
   "id": "6be04646",
   "metadata": {},
   "source": [
    "## El proposito de comprehension\n",
    "- Son construcciones que nos permiten crear secuencias de otras secuancias\n",
    "- Trabajan mas rapido con un ciclo for equivalente\n",
    "- Se pueden incorporar multiples ciclos for y condicionales if facilmente"
   ]
  },
  {
   "cell_type": "markdown",
   "id": "75df23ed",
   "metadata": {},
   "source": [
    "## List comprehensions\n",
    "- Son usados para crear nuevas listas de otros iterables\n",
    "- Regresan listas\n",
    "- Consisten en expresiones en medio de corchetes\n",
    "- La expresión es usada por cada elemento junto con un ciclo for para iterar en cada elemento\n",
    "- Pueden contener multiples list cmprehensions anidadas"
   ]
  },
  {
   "cell_type": "code",
   "execution_count": 1,
   "id": "6f7da403",
   "metadata": {},
   "outputs": [
    {
     "name": "stdout",
     "output_type": "stream",
     "text": [
      "1\n",
      "3\n",
      "5\n",
      "7\n",
      "9\n",
      "11\n",
      "13\n",
      "15\n",
      "17\n",
      "19\n"
     ]
    }
   ],
   "source": [
    "# Ciclo for convencional\n",
    "# Numeros impares\n",
    "for number in range(20):\n",
    "    if number % 2 == 1:\n",
    "        print(number)"
   ]
  },
  {
   "cell_type": "code",
   "execution_count": 2,
   "id": "2f5d62fe",
   "metadata": {},
   "outputs": [
    {
     "name": "stdout",
     "output_type": "stream",
     "text": [
      "[1, 3, 5, 7, 9, 11, 13, 15, 17, 19]\n"
     ]
    }
   ],
   "source": [
    "# List Comprehension\n",
    "# Numeros impares\n",
    "odd_number = [x for x in range(20) if x % 2 == 1]\n",
    "print(odd_number)"
   ]
  },
  {
   "cell_type": "code",
   "execution_count": 3,
   "id": "cdefac07",
   "metadata": {},
   "outputs": [
    {
     "name": "stdout",
     "output_type": "stream",
     "text": [
      "B\n",
      "a\n",
      "c\n",
      "k\n",
      "e\n",
      "n\n",
      "d\n",
      " \n",
      "P\n",
      "y\n",
      "t\n",
      "h\n",
      "o\n",
      "n\n"
     ]
    }
   ],
   "source": [
    "# Ciclo for convencional\n",
    "# Caracteres en una cadena\n",
    "my_string = \"Backend Python\"\n",
    "for letter in my_string:\n",
    "    print(letter)"
   ]
  },
  {
   "cell_type": "code",
   "execution_count": 4,
   "id": "03d9e260",
   "metadata": {},
   "outputs": [
    {
     "name": "stdout",
     "output_type": "stream",
     "text": [
      "['B', 'a', 'c', 'k', 'e', 'n', 'd', ' ', 'P', 'y', 't', 'h', 'o', 'n']\n"
     ]
    }
   ],
   "source": [
    "# List Comprehension\n",
    "# Caracteres en una cadena\n",
    "my_string = \"Backend Python\"\n",
    "letter = [letter for letter in my_string]\n",
    "33print(letter)"
   ]
  },
  {
   "cell_type": "markdown",
   "id": "f7047e30",
   "metadata": {},
   "source": [
    "## Dic Comprehensions\n",
    "- Son practicamente identifcas a list comprehensions\n",
    "- Operan de la misma forma pero usando dos variables, la llave y el valor, en lugar de un solo valor para la iteracion de las listas"
   ]
  },
  {
   "cell_type": "code",
   "execution_count": 6,
   "id": "3010ccf2",
   "metadata": {},
   "outputs": [
    {
     "name": "stdout",
     "output_type": "stream",
     "text": [
      "{0: 1, 1: 1, 2: 2, 3: 6, 4: 24, 5: 120, 6: 720, 7: 5040, 8: 40320, 9: 362880, 10: 3628800, 11: 39916800}\n"
     ]
    }
   ],
   "source": [
    "import math\n",
    "factorials = {x:math.factorial(x) for x in range(12)}\n",
    "print(factorials)"
   ]
  },
  {
   "cell_type": "code",
   "execution_count": 14,
   "id": "59e700fd",
   "metadata": {},
   "outputs": [
    {
     "name": "stdout",
     "output_type": "stream",
     "text": [
      "{1: 1, 3: 6, 5: 120}\n"
     ]
    }
   ],
   "source": [
    "import math\n",
    "odd_factorials = {x:math.factorial(x) for x in range(6) if x % 2 == 1}\n",
    "print(odd_factorials)"
   ]
  },
  {
   "cell_type": "code",
   "execution_count": 18,
   "id": "96ef93f1",
   "metadata": {},
   "outputs": [
    {
     "name": "stdout",
     "output_type": "stream",
     "text": [
      "{0: 1, 2: 2, 4: 24}\n"
     ]
    }
   ],
   "source": [
    "import math\n",
    "even_factorials = {x:math.factorial(x) for x in range(6) if x % 2 == 0}\n",
    "print(even_factorials)"
   ]
  },
  {
   "cell_type": "markdown",
   "id": "057f5d58",
   "metadata": {},
   "source": [
    "## Declaraciones Condiciones"
   ]
  },
  {
   "cell_type": "markdown",
   "id": "00e0df55",
   "metadata": {},
   "source": [
    "### Qué son la declaraciones condicionales\n",
    "- Generalmente, controlan el flujo del programa\n",
    "- Si la condicion es verdadera, el programa ejecuta cierta acción\n",
    "- Si la condición es falsa, el programa ejecuta otra acción\n",
    "- Se usan para evaluar si ciertas condiciones son verdaderas o falsas u decidir que bloque de codigo ejecutar\n",
    "- Tenemos 3 tipos de declaraciones condicionales\n",
    "    - if\n",
    "    - if else\n",
    "    - if elif else"
   ]
  },
  {
   "cell_type": "markdown",
   "id": "b54f2696",
   "metadata": {},
   "source": [
    "### Porqué usar las declaraciones condicionales\n",
    "- Son un concepto central común en cualquier tipo de programación\n",
    "- Se pueden usar para validaciones condicionales\n",
    "- Usamos \"if\" para revisar si una condición es falsa o verdera\n",
    "- Las declaraciones condicionales incluyen una condición y el bloque de codigo para esa condición\n",
    "- Dependerá del resultado de una condición si se hace la validación de la siguiente condición\n",
    "- Si una condición es verdadera, pasará a evaluar la siguiente condición\n",
    "- Si la condición es falsa, irá directo al bloque correspondiente o al bloque default"
   ]
  },
  {
   "cell_type": "markdown",
   "id": "e33613d4",
   "metadata": {},
   "source": [
    "## IF"
   ]
  },
  {
   "cell_type": "code",
   "execution_count": 20,
   "id": "8bd990d2",
   "metadata": {},
   "outputs": [
    {
     "name": "stdout",
     "output_type": "stream",
     "text": [
      "Dentro del bloque if\n",
      "Final del ejemplo\n"
     ]
    }
   ],
   "source": [
    "num = 3\n",
    "if num > 1:\n",
    "    print(\"Dentro del bloque if\")\n",
    "print(\"Final del ejemplo\")"
   ]
  },
  {
   "cell_type": "code",
   "execution_count": 22,
   "id": "42d86ac8",
   "metadata": {},
   "outputs": [
    {
     "name": "stdout",
     "output_type": "stream",
     "text": [
      "Dentro del bloque if\n",
      "Final del ejemplo\n"
     ]
    }
   ],
   "source": [
    "num = 3\n",
    "if num > 1 and num < 10:\n",
    "    print(\"Dentro del bloque if\")\n",
    "print(\"Final del ejemplo\")"
   ]
  },
  {
   "cell_type": "code",
   "execution_count": 23,
   "id": "25e50c0b",
   "metadata": {},
   "outputs": [
    {
     "name": "stdout",
     "output_type": "stream",
     "text": [
      "Final del ejemplo\n"
     ]
    }
   ],
   "source": [
    "num = 0\n",
    "if num > 1 and num < 10:\n",
    "    print(\"Dentro del bloque if\")\n",
    "print(\"Final del ejemplo\")"
   ]
  },
  {
   "cell_type": "markdown",
   "id": "eeb5fdf7",
   "metadata": {},
   "source": [
    "## If else"
   ]
  },
  {
   "cell_type": "code",
   "execution_count": 25,
   "id": "f9e629a2",
   "metadata": {},
   "outputs": [
    {
     "name": "stdout",
     "output_type": "stream",
     "text": [
      "Dentro del bloque if\n",
      "Final del ejemplo\n"
     ]
    }
   ],
   "source": [
    "num = 3\n",
    "if num > 1 and num < 10:\n",
    "    print(\"Dentro del bloque if\")\n",
    "else:\n",
    "    print(\"Dentro del bloque de else\")\n",
    "    print(\"La condicion no se cumplió\")\n",
    "    print(\"else\")\n",
    "print(\"Final del ejemplo\")"
   ]
  },
  {
   "cell_type": "code",
   "execution_count": 26,
   "id": "53453607",
   "metadata": {},
   "outputs": [
    {
     "name": "stdout",
     "output_type": "stream",
     "text": [
      "Dentro del bloque de else\n",
      "La condicion no se cumplió\n",
      "else\n",
      "Final del ejemplo\n"
     ]
    }
   ],
   "source": [
    "num = 0\n",
    "if num > 1 and num < 10:\n",
    "    print(\"Dentro del bloque if\")\n",
    "else:\n",
    "    print(\"Dentro del bloque de else\")\n",
    "    print(\"La condicion no se cumplió\")\n",
    "    print(\"else\")\n",
    "print(\"Final del ejemplo\")"
   ]
  },
  {
   "cell_type": "markdown",
   "id": "e847c056",
   "metadata": {},
   "source": [
    "## if elif else"
   ]
  },
  {
   "cell_type": "code",
   "execution_count": 27,
   "id": "8c3c5bae",
   "metadata": {},
   "outputs": [
    {
     "name": "stdout",
     "output_type": "stream",
     "text": [
      "Dentro del bloque de else\n",
      "La condicion no se cumplió\n",
      "else\n",
      "Final de ejemplo fuera del condicional\n"
     ]
    }
   ],
   "source": [
    "num = 0\n",
    "if num > 1 and num < 10:\n",
    "    print(\"Dentro del bloque IF\")\n",
    "    print(\"test\")\n",
    "    print(\"Probando!!!\")\n",
    "elif num == 2:\n",
    "    print(\"Dentro del bloque ELIF\")\n",
    "    print(\"El valor de num es igual a 2\")\n",
    "else:\n",
    "    print(\"Dentro del bloque de else\")\n",
    "    print(\"La condicion no se cumplió\")\n",
    "    print(\"else\")\n",
    "print(\"Final de ejemplo fuera del condicional\")"
   ]
  },
  {
   "cell_type": "code",
   "execution_count": 30,
   "id": "5e69c319",
   "metadata": {},
   "outputs": [
    {
     "name": "stdout",
     "output_type": "stream",
     "text": [
      "Dentro del bloque ELIF\n",
      "El valor de num es igual a 12\n",
      "Final de ejemplo fuera del condicional\n"
     ]
    }
   ],
   "source": [
    "num = 12\n",
    "if num > 1 and num < 10:\n",
    "    print(\"Dentro del bloque IF\")\n",
    "    print(\"test\")\n",
    "    print(\"Probando!!!\")\n",
    "elif num == 11:\n",
    "    print(\"Dentro del bloque ELIF\")\n",
    "    print(\"El valor de num es igual a 11\")\n",
    "elif num == 12:\n",
    "    print(\"Dentro del bloque ELIF\")\n",
    "    print(\"El valor de num es igual a 12\")\n",
    "else:\n",
    "    print(\"Dentro del bloque de else\")\n",
    "    print(\"La condicion no se cumplió\")\n",
    "    print(\"else\")\n",
    "print(\"Final de ejemplo fuera del condicional\")"
   ]
  },
  {
   "cell_type": "code",
   "execution_count": 31,
   "id": "e2aee3e6",
   "metadata": {},
   "outputs": [
    {
     "name": "stdout",
     "output_type": "stream",
     "text": [
      "Dentro del bloque de else\n",
      "La condicion no se cumplió\n",
      "else\n",
      "Final de ejemplo fuera del condicional\n"
     ]
    }
   ],
   "source": [
    "num = 13\n",
    "if num > 1 and num < 10:\n",
    "    print(\"Dentro del bloque IF\")\n",
    "    print(\"test\")\n",
    "    print(\"Probando!!!\")\n",
    "elif num == 11:\n",
    "    print(\"Dentro del bloque ELIF\")\n",
    "    print(\"El valor de num es igual a 11\")\n",
    "elif num == 12:\n",
    "    print(\"Dentro del bloque ELIF\")\n",
    "    print(\"El valor de num es igual a 12\")\n",
    "else:\n",
    "    print(\"Dentro del bloque de else\")\n",
    "    print(\"La condicion no se cumplió\")\n",
    "    print(\"else\")\n",
    "print(\"Final de ejemplo fuera del condicional\")"
   ]
  },
  {
   "cell_type": "markdown",
   "id": "2342e19a",
   "metadata": {},
   "source": [
    "## if anidados\n",
    "- Un if anidado es un if que esta dentro de otro if\n",
    "- Son bastante comunes\n",
    "- Los if anidados solo se evaluan si el if exterior es verdadero"
   ]
  },
  {
   "cell_type": "code",
   "execution_count": 34,
   "id": "5559613a",
   "metadata": {},
   "outputs": [
    {
     "name": "stdout",
     "output_type": "stream",
     "text": [
      "Dentro del bloque if\n",
      "El numero es igual o mayor a 1\n",
      "Final del ejemplo\n"
     ]
    }
   ],
   "source": [
    "num = 3\n",
    "if num >= 1:\n",
    "    print(\"Dentro del bloque if\")\n",
    "    print(\"El numero es igual o mayor a 1\")\n",
    "    if num >= 10:\n",
    "        print(\"Dentro del bloque del primer if anidado\")\n",
    "        print(\"El numero es igual o mayor a 10\")\n",
    "print(\"Final del ejemplo\")"
   ]
  },
  {
   "cell_type": "code",
   "execution_count": 37,
   "id": "d9c652e4",
   "metadata": {},
   "outputs": [
    {
     "name": "stdout",
     "output_type": "stream",
     "text": [
      "Dentro del bloque if\n",
      "El numero es igual o mayor a 1\n",
      "Dentro del bloque del primer if anidado\n",
      "El numero es igual o mayor a 10\n",
      "Final del ejemplo\n"
     ]
    }
   ],
   "source": [
    "num = 10\n",
    "if num >= 1:\n",
    "    print(\"Dentro del bloque if\")\n",
    "    print(\"El numero es igual o mayor a 1\")\n",
    "    if num >= 10:\n",
    "        print(\"Dentro del bloque del primer if anidado\")\n",
    "        print(\"El numero es igual o mayor a 10\")\n",
    "print(\"Final del ejemplo\")"
   ]
  },
  {
   "cell_type": "code",
   "execution_count": 38,
   "id": "858295cb",
   "metadata": {},
   "outputs": [
    {
     "name": "stdout",
     "output_type": "stream",
     "text": [
      "Final del ejemplo\n"
     ]
    }
   ],
   "source": [
    "num = 10\n",
    "if num >= 100:\n",
    "    print(\"Dentro del bloque if\")\n",
    "    print(\"El numero es igual o mayor a 1\")\n",
    "    if num >= 10:\n",
    "        print(\"Dentro del bloque del primer if anidado\")\n",
    "        print(\"El numero es igual o mayor a 10\")\n",
    "print(\"Final del ejemplo\")"
   ]
  },
  {
   "cell_type": "markdown",
   "id": "99be0e52",
   "metadata": {},
   "source": [
    "## Pruebas de Afiliación\n",
    "- Los operadores de afiliación son usados para verificar si un valor esta presente o no en una secuencia\n",
    "- Los operadores son \"in\" y \"not in\"\n",
    "- Puedes hacer pruebas de afiliacion para todas las estructuras de datos como las Listas, Sets y Diccionarios\n",
    "- Tambien se pueden hacer pruebas de afiliacion para cadenas en Python\n",
    "- Los operadores de afiliacion se usan para encontrar rapidamente si ciertos valores estan disponibles o no"
   ]
  },
  {
   "cell_type": "markdown",
   "id": "d541d34d",
   "metadata": {},
   "source": [
    "### Prueba de afiliacion para cadenas/strings"
   ]
  },
  {
   "cell_type": "code",
   "execution_count": 39,
   "id": "c84ed132",
   "metadata": {},
   "outputs": [
    {
     "name": "stdout",
     "output_type": "stream",
     "text": [
      "True\n"
     ]
    }
   ],
   "source": [
    "my_string = \"Backend Python\"\n",
    "print(\"a\" in my_string)"
   ]
  },
  {
   "cell_type": "code",
   "execution_count": 40,
   "id": "59d78ea0",
   "metadata": {},
   "outputs": [
    {
     "name": "stdout",
     "output_type": "stream",
     "text": [
      "False\n"
     ]
    }
   ],
   "source": [
    "my_string = \"Backend Python\"\n",
    "print(\"z\" in my_string)"
   ]
  },
  {
   "cell_type": "code",
   "execution_count": 42,
   "id": "ba90991c",
   "metadata": {},
   "outputs": [
    {
     "name": "stdout",
     "output_type": "stream",
     "text": [
      "False\n"
     ]
    }
   ],
   "source": [
    "my_string = \"Backend Python\"\n",
    "print(\"a\" not in my_string)"
   ]
  },
  {
   "cell_type": "code",
   "execution_count": 43,
   "id": "c9c91bfb",
   "metadata": {},
   "outputs": [
    {
     "name": "stdout",
     "output_type": "stream",
     "text": [
      "True\n"
     ]
    }
   ],
   "source": [
    "my_string = \"Backend Python\"\n",
    "print(\"z\" not in my_string)"
   ]
  },
  {
   "cell_type": "code",
   "execution_count": 44,
   "id": "547eb8f1",
   "metadata": {},
   "outputs": [
    {
     "name": "stdout",
     "output_type": "stream",
     "text": [
      "True\n"
     ]
    }
   ],
   "source": [
    "my_string = \"Backend Python\"\n",
    "print(\"Back\" in my_string)"
   ]
  },
  {
   "cell_type": "code",
   "execution_count": 45,
   "id": "39dd4399",
   "metadata": {},
   "outputs": [
    {
     "name": "stdout",
     "output_type": "stream",
     "text": [
      "True\n"
     ]
    }
   ],
   "source": [
    "my_string = \"Backend Python\"\n",
    "print(\"Backend\" in my_string)"
   ]
  },
  {
   "cell_type": "code",
   "execution_count": 46,
   "id": "86b5a47c",
   "metadata": {},
   "outputs": [
    {
     "name": "stdout",
     "output_type": "stream",
     "text": [
      "True\n"
     ]
    }
   ],
   "source": [
    "my_string = \"Backend Python\"\n",
    "print(\"hola\" not in my_string)"
   ]
  },
  {
   "cell_type": "code",
   "execution_count": 47,
   "id": "35e00642",
   "metadata": {},
   "outputs": [
    {
     "name": "stdout",
     "output_type": "stream",
     "text": [
      "True\n"
     ]
    }
   ],
   "source": [
    "my_string = \"Backend Python\"\n",
    "print(\"Backend Py\" in my_string)"
   ]
  },
  {
   "cell_type": "code",
   "execution_count": 48,
   "id": "1954dc98",
   "metadata": {},
   "outputs": [
    {
     "name": "stdout",
     "output_type": "stream",
     "text": [
      "False\n"
     ]
    }
   ],
   "source": [
    "my_string = \"Backend Python\"\n",
    "print(\"BackendPy\" in my_string)"
   ]
  },
  {
   "cell_type": "markdown",
   "id": "6c73eb75",
   "metadata": {},
   "source": [
    "### Pruebas de afiliacion para tuplas"
   ]
  },
  {
   "cell_type": "code",
   "execution_count": 49,
   "id": "842158ff",
   "metadata": {},
   "outputs": [
    {
     "name": "stdout",
     "output_type": "stream",
     "text": [
      "True\n"
     ]
    }
   ],
   "source": [
    "my_tuple = (\"a\", \"b\", \"c\", \"d\")\n",
    "print(\"c\" in my_tuple)"
   ]
  },
  {
   "cell_type": "code",
   "execution_count": 50,
   "id": "d2e6cd80",
   "metadata": {},
   "outputs": [
    {
     "name": "stdout",
     "output_type": "stream",
     "text": [
      "False\n"
     ]
    }
   ],
   "source": [
    "my_tuple = (\"a\", \"b\", \"c\", \"d\")\n",
    "print(\"e\" in my_tuple)"
   ]
  },
  {
   "cell_type": "code",
   "execution_count": 51,
   "id": "355b008d",
   "metadata": {},
   "outputs": [
    {
     "name": "stdout",
     "output_type": "stream",
     "text": [
      "False\n"
     ]
    }
   ],
   "source": [
    "my_tuple = (\"a\", \"b\", \"c\", \"d\")\n",
    "print(\"c\" not in my_tuple)"
   ]
  },
  {
   "cell_type": "code",
   "execution_count": 53,
   "id": "2c871578",
   "metadata": {},
   "outputs": [
    {
     "name": "stdout",
     "output_type": "stream",
     "text": [
      "True\n"
     ]
    }
   ],
   "source": [
    "my_tuple = (1,2,3,4,5)\n",
    "print(5 in my_tuple)"
   ]
  },
  {
   "cell_type": "code",
   "execution_count": 54,
   "id": "567ca5f1",
   "metadata": {},
   "outputs": [
    {
     "name": "stdout",
     "output_type": "stream",
     "text": [
      "False\n"
     ]
    }
   ],
   "source": [
    "my_tuple = (1,2,3,4,5)\n",
    "print(6 in my_tuple)"
   ]
  },
  {
   "cell_type": "code",
   "execution_count": 56,
   "id": "d35c869e",
   "metadata": {},
   "outputs": [
    {
     "name": "stdout",
     "output_type": "stream",
     "text": [
      "True\n"
     ]
    }
   ],
   "source": [
    "my_tuple = (1,2,3,4,5)\n",
    "print(6 not in my_tuple)"
   ]
  },
  {
   "cell_type": "markdown",
   "id": "8964f82b",
   "metadata": {},
   "source": [
    "### Pruebas de afiliacion para listas"
   ]
  },
  {
   "cell_type": "code",
   "execution_count": 57,
   "id": "ecdc9c08",
   "metadata": {},
   "outputs": [
    {
     "name": "stdout",
     "output_type": "stream",
     "text": [
      "True\n"
     ]
    }
   ],
   "source": [
    "my_list = [\"a\", \"b\", \"c\", \"d\"]\n",
    "print(\"c\" in my_list)"
   ]
  },
  {
   "cell_type": "code",
   "execution_count": 58,
   "id": "1cd36ecc",
   "metadata": {},
   "outputs": [
    {
     "name": "stdout",
     "output_type": "stream",
     "text": [
      "False\n"
     ]
    }
   ],
   "source": [
    "my_list = [\"a\", \"b\", \"c\", \"d\"]\n",
    "print(\"f\" in my_list)"
   ]
  },
  {
   "cell_type": "code",
   "execution_count": 59,
   "id": "3741c5f1",
   "metadata": {},
   "outputs": [
    {
     "name": "stdout",
     "output_type": "stream",
     "text": [
      "False\n"
     ]
    }
   ],
   "source": [
    "my_list = [\"a\", \"b\", \"c\", \"d\"]\n",
    "print(\"c\" not in my_list)"
   ]
  },
  {
   "cell_type": "markdown",
   "id": "9865bcee",
   "metadata": {},
   "source": [
    "### Pruebas de afiliacion para sets"
   ]
  },
  {
   "cell_type": "code",
   "execution_count": 60,
   "id": "4a228e04",
   "metadata": {},
   "outputs": [
    {
     "name": "stdout",
     "output_type": "stream",
     "text": [
      "True\n"
     ]
    }
   ],
   "source": [
    "my_set = {\"a\", \"b\", \"c\", \"d\"}\n",
    "print(\"c\" in my_set)"
   ]
  },
  {
   "cell_type": "code",
   "execution_count": 61,
   "id": "1a0ec646",
   "metadata": {},
   "outputs": [
    {
     "name": "stdout",
     "output_type": "stream",
     "text": [
      "False\n"
     ]
    }
   ],
   "source": [
    "my_set = {\"a\", \"b\", \"c\", \"d\"}\n",
    "print(\"f\" in my_set)"
   ]
  },
  {
   "cell_type": "code",
   "execution_count": 62,
   "id": "8b4b5ea5",
   "metadata": {},
   "outputs": [
    {
     "name": "stdout",
     "output_type": "stream",
     "text": [
      "True\n"
     ]
    }
   ],
   "source": [
    "my_set = {\"a\", \"b\", \"c\", \"d\"}\n",
    "print(\"f\" not in my_set)"
   ]
  },
  {
   "cell_type": "markdown",
   "id": "3c6d3218",
   "metadata": {},
   "source": [
    "### Pruebas de afiliacion para diccionarios\n",
    "- Valida si esta presenta en las llaves"
   ]
  },
  {
   "cell_type": "code",
   "execution_count": 63,
   "id": "d40a9859",
   "metadata": {},
   "outputs": [
    {
     "name": "stdout",
     "output_type": "stream",
     "text": [
      "True\n"
     ]
    }
   ],
   "source": [
    "my_dict = {\"a\":100, \"b\":130, \"c\":100, \"d\":170, \"e\":200}\n",
    "print(\"c\" in my_dict)"
   ]
  },
  {
   "cell_type": "code",
   "execution_count": 64,
   "id": "f8bcb1c6",
   "metadata": {},
   "outputs": [
    {
     "name": "stdout",
     "output_type": "stream",
     "text": [
      "False\n"
     ]
    }
   ],
   "source": [
    "my_dict = {\"a\":100, \"b\":130, \"c\":100, \"d\":170, \"e\":200}\n",
    "print(100 in my_dict)"
   ]
  },
  {
   "cell_type": "code",
   "execution_count": 66,
   "id": "a2f03c06",
   "metadata": {},
   "outputs": [
    {
     "name": "stdout",
     "output_type": "stream",
     "text": [
      "True\n"
     ]
    }
   ],
   "source": [
    "my_dict = {\"a\":100, \"b\":130, \"c\":100, \"d\":170, \"e\":200}\n",
    "print(100 in my_dict.values())"
   ]
  },
  {
   "cell_type": "code",
   "execution_count": 67,
   "id": "5e286d90",
   "metadata": {},
   "outputs": [
    {
     "name": "stdout",
     "output_type": "stream",
     "text": [
      "False\n"
     ]
    }
   ],
   "source": [
    "my_dict = {\"a\":100, \"b\":130, \"c\":100, \"d\":170, \"e\":200}\n",
    "print(110 in my_dict.values())"
   ]
  },
  {
   "cell_type": "code",
   "execution_count": 68,
   "id": "7eeaebd8",
   "metadata": {},
   "outputs": [
    {
     "name": "stdout",
     "output_type": "stream",
     "text": [
      "False\n"
     ]
    }
   ],
   "source": [
    "my_dict = {\"a\":100, \"b\":130, \"c\":100, \"d\":170, \"e\":200}\n",
    "print(100 not in my_dict.values())"
   ]
  },
  {
   "cell_type": "code",
   "execution_count": null,
   "id": "555fa30b",
   "metadata": {},
   "outputs": [],
   "source": []
  }
 ],
 "metadata": {
  "kernelspec": {
   "display_name": "Python 3 (ipykernel)",
   "language": "python",
   "name": "python3"
  },
  "language_info": {
   "codemirror_mode": {
    "name": "ipython",
    "version": 3
   },
   "file_extension": ".py",
   "mimetype": "text/x-python",
   "name": "python",
   "nbconvert_exporter": "python",
   "pygments_lexer": "ipython3",
   "version": "3.11.7"
  }
 },
 "nbformat": 4,
 "nbformat_minor": 5
}
