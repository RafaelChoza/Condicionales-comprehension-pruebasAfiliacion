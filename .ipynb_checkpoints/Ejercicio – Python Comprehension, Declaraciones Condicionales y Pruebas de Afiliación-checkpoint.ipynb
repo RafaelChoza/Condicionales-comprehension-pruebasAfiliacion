{
 "cells": [
  {
   "cell_type": "code",
   "execution_count": 33,
   "id": "b60dd214",
   "metadata": {},
   "outputs": [
    {
     "name": "stdout",
     "output_type": "stream",
     "text": [
      "Lista de reproducción\n",
      "Ingresa la palabra que te gustaría\n",
      "Ejemplo: 'rock', y obtendrás un playlist de canciones o artistas que incluyan la palabra rock\n",
      "hola\n",
      "[{'artist': 'Maître Gims', 'title': 'Hola Señorita', 'link': 'https://www.deezer.com/artist/4429712'}, {'artist': 'Dalex', 'title': 'Hola (Remix)', 'link': 'https://www.deezer.com/artist/4056850'}, {'artist': 'JHAYCO', 'title': 'Holanda', 'link': 'https://www.deezer.com/artist/105047672'}, {'artist': 'Farruko', 'title': 'Hola Beba', 'link': 'https://www.deezer.com/artist/614223'}, {'artist': 'Luck Ra', 'title': 'HOLA PERDIDA', 'link': 'https://www.deezer.com/artist/13971299'}, {'artist': 'Luck Ra', 'title': 'HOLA PERDIDA REMIX', 'link': 'https://www.deezer.com/artist/13971299'}, {'artist': 'PLK', 'title': 'Hola', 'link': 'https://www.deezer.com/artist/1479842'}, {'artist': 'Eladio Carrion', 'title': 'Hola Como Vas', 'link': 'https://www.deezer.com/artist/8613614'}, {'artist': 'Jul', 'title': 'Holà que tal ?', 'link': 'https://www.deezer.com/artist/1191615'}, {'artist': 'Banda La Mundial De Claudio Alcaraz', 'title': 'Hola, ¿Que Tal?', 'link': 'https://www.deezer.com/artist/12313838'}, {'artist': 'JHAYCO', 'title': 'Holanda', 'link': 'https://www.deezer.com/artist/105047672'}, {'artist': 'Zion & Lennox', 'title': 'Hola', 'link': 'https://www.deezer.com/artist/1217914'}, {'artist': 'Dalex', 'title': 'Hola', 'link': 'https://www.deezer.com/artist/4056850'}, {'artist': 'Miranda!', 'title': 'Hola', 'link': 'https://www.deezer.com/artist/4996'}, {'artist': 'Luck Ra', 'title': 'HOLA PERDIDA', 'link': 'https://www.deezer.com/artist/13971299'}, {'artist': 'Farruko', 'title': 'Hola Beba (Remix)', 'link': 'https://www.deezer.com/artist/614223'}, {'artist': 'Flo Rida', 'title': 'Hola (feat. Maluma)', 'link': 'https://www.deezer.com/artist/64333'}, {'artist': \"Cyclope l'Héritier\", 'title': 'Holala', 'link': 'https://www.deezer.com/artist/138889412'}, {'artist': 'Cosculluela', 'title': 'Hola beba', 'link': 'https://www.deezer.com/artist/746471'}, {'artist': 'Valentino', 'title': 'Hola', 'link': 'https://www.deezer.com/artist/70629772'}, {'artist': 'That Mexican OT', 'title': 'Hola', 'link': 'https://www.deezer.com/artist/140293892'}, {'artist': 'Tokischa', 'title': 'Hola', 'link': 'https://www.deezer.com/artist/48947801'}, {'artist': 'Naza', 'title': 'HOLÀ', 'link': 'https://www.deezer.com/artist/7459270'}, {'artist': 'Héctor El Father', 'title': 'Hola Bebe', 'link': 'https://www.deezer.com/artist/75355'}, {'artist': 'ONEW', 'title': 'Hola!', 'link': 'https://www.deezer.com/artist/53633732'}]\n"
     ]
    }
   ],
   "source": [
    "import requests\n",
    "print(\"Lista de reproducción\")\n",
    "\n",
    "# Referencia: https://www.deezer.com/en/channels/explore\n",
    "\n",
    "print(\"Ingresa la palabra que te gustaría\")\n",
    "print(\"Ejemplo: 'rock', y obtendrás un playlist de canciones o artistas que incluyan la palabra rock\")\n",
    "\n",
    "word_to_search = input()\n",
    "\n",
    "url = \"https://deezerdevs-deezer.p.rapidapi.com/search\"\n",
    "querystring = {\"q\":word_to_search}\n",
    "headers = {\n",
    "    \"X-RapidAPI-Key\": \"3ed98f551fmshe4e6260228c4eadp13db17jsn8c893e1194da\",\n",
    "     \"X-RapidAPI-Host\": \"deezerdevs-deezer.p.rapidapi.com\"\n",
    "}\n",
    "response = requests.request(\"GET\", url, headers=headers, params=querystring).json()\n",
    "\n",
    "my_list = []\n",
    "\n",
    "response['data']\n",
    "#print(response['data'])\n",
    "\n",
    "\n",
    "my_list = [{'artist': element['artist']['name'], 'title': element['title']} for element in response['data']]\n",
    "\n",
    "print(my_list)"
   ]
  },
  {
   "cell_type": "code",
   "execution_count": null,
   "id": "46eacda1",
   "metadata": {},
   "outputs": [],
   "source": []
  }
 ],
 "metadata": {
  "kernelspec": {
   "display_name": "Python 3 (ipykernel)",
   "language": "python",
   "name": "python3"
  },
  "language_info": {
   "codemirror_mode": {
    "name": "ipython",
    "version": 3
   },
   "file_extension": ".py",
   "mimetype": "text/x-python",
   "name": "python",
   "nbconvert_exporter": "python",
   "pygments_lexer": "ipython3",
   "version": "3.11.7"
  }
 },
 "nbformat": 4,
 "nbformat_minor": 5
}
